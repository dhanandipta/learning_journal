{
 "cells": [
  {
   "cell_type": "code",
   "execution_count": 2,
   "metadata": {},
   "outputs": [
    {
     "name": "stdout",
     "output_type": "stream",
     "text": [
      "Suhu 100 celcius sama dengan 212.0 fahrenheit dan juga 373 derajad kelvin\n",
      "Suhu 100 kelvin sama dengan -279.4 fahrenheit dan juga -173 derajad celcius\n"
     ]
    }
   ],
   "source": [
    "def converter_suhu(suhu):\n",
    "    conv_k = suhu + 273 #konversi dari celcius ke kelvin\n",
    "    conv_c = suhu - 273 #konversi dari kelvin ke celcius\n",
    "    return conv_k, conv_c\n",
    "\n",
    "def conv_fahrenheit(c, k): #parameter utk input celcius/kelvin\n",
    "    conv_fc = (c * 9/5) + 32 #konversi dari celcius ke fahrenheit\n",
    "    conv_fk = (k - 273) * 9/5 +32 #konversi dari kelvin ke fahrenheit\n",
    "    print(f\"Suhu {c} celcius sama dengan {conv_fc} fahrenheit dan juga {converter_suhu(c)[0]} derajad kelvin\")\n",
    "    print(f\"Suhu {k} kelvin sama dengan {conv_fk} fahrenheit dan juga {converter_suhu(c)[1]} derajad celcius\")\n",
    "\n",
    "conv_fahrenheit(100, 100)"
   ]
  },
  {
   "cell_type": "code",
   "execution_count": null,
   "metadata": {},
   "outputs": [],
   "source": []
  }
 ],
 "metadata": {
  "interpreter": {
   "hash": "ec48a7eb029cdc542407fb9869288c96ab6e2ae880e1da9f0814a29f5bb615aa"
  },
  "kernelspec": {
   "display_name": "Python 3.10.0 64-bit",
   "language": "python",
   "name": "python3"
  },
  "language_info": {
   "codemirror_mode": {
    "name": "ipython",
    "version": 3
   },
   "file_extension": ".py",
   "mimetype": "text/x-python",
   "name": "python",
   "nbconvert_exporter": "python",
   "pygments_lexer": "ipython3",
   "version": "3.10.0"
  },
  "orig_nbformat": 4
 },
 "nbformat": 4,
 "nbformat_minor": 2
}
